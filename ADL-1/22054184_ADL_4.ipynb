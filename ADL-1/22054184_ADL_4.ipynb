{
 "cells": [
  {
   "cell_type": "code",
   "execution_count": 1,
   "id": "048bf63f",
   "metadata": {},
   "outputs": [],
   "source": [
    "import numpy as np\n",
    "import pandas as pd\n",
    "from sklearn.model_selection import train_test_split\n",
    "from sklearn.linear_model import LogisticRegression\n",
    "from sklearn.preprocessing import StandardScaler\n",
    "from sklearn.metrics import accuracy_score, confusion_matrix, classification_report\n",
    "import seaborn as sns\n",
    "import matplotlib.pyplot as plt\n",
    "from urllib.request import urlretrieve\n"
   ]
  },
  {
   "cell_type": "code",
   "execution_count": 2,
   "id": "f359b87b",
   "metadata": {},
   "outputs": [],
   "source": [
    "def load_spambase_data():\n",
    "    url = \"https://archive.ics.uci.edu/ml/machine-learning-databases/spambase/spambase.data\"\n",
    "    try:\n",
    "       \n",
    "        urlretrieve(url, \"spambase.data\")\n",
    "        \n",
    "        features = [\n",
    "            \n",
    "            *[f'word_freq_{i}' for i in range(48)],\n",
    "            \n",
    "            *[f'char_freq_{i}' for i in range(6)],\n",
    "            \n",
    "            'capital_run_length_average',\n",
    "            'capital_run_length_longest',\n",
    "            'capital_run_length_total',\n",
    "            #\n",
    "            'is_spam'\n",
    "        ]\n",
    "        \n",
    "        \n",
    "        data = pd.read_csv(\"spambase.data\", names=features)\n",
    "        \n",
    "        \n",
    "        X = data.drop('is_spam', axis=1)\n",
    "        y = data['is_spam']\n",
    "        \n",
    "        return X, y\n",
    "    \n",
    "    except Exception as e:\n",
    "        print(f\"Error loading data: {e}\")\n",
    "        return None, None"
   ]
  },
  {
   "cell_type": "code",
   "execution_count": 3,
   "id": "2ebe1604",
   "metadata": {},
   "outputs": [
    {
     "name": "stdout",
     "output_type": "stream",
     "text": [
      "Model Accuracy: 91.97%\n",
      "\n",
      "Classification Report:\n",
      "              precision    recall  f1-score   support\n",
      "\n",
      "    Non-Spam       0.91      0.95      0.93       531\n",
      "        Spam       0.93      0.87      0.90       390\n",
      "\n",
      "    accuracy                           0.92       921\n",
      "   macro avg       0.92      0.91      0.92       921\n",
      "weighted avg       0.92      0.92      0.92       921\n",
      "\n",
      "\n",
      "Top 10 Most Important Features:\n",
      "         Feature  Importance\n",
      "26  word_freq_26    4.472549\n",
      "24  word_freq_24    2.796473\n",
      "40  word_freq_40    1.686775\n",
      "43  word_freq_43    1.481782\n",
      "41  word_freq_41    1.281441\n",
      "52   char_freq_4    1.233956\n",
      "45  word_freq_45    1.155771\n",
      "47  word_freq_47    1.017711\n",
      "28  word_freq_28    0.991178\n",
      "22  word_freq_22    0.984019\n"
     ]
    },
    {
     "data": {
      "image/png": "[encoded data removed]",
      "text/plain": [
       "<Figure size 800x600 with 2 Axes>"
      ]
     },
     "metadata": {},
     "output_type": "display_data"
    }
   ],
   "source": [
    "def train_spam_classifier():\n",
    "    X, y = load_spambase_data()\n",
    "    \n",
    "    if X is None or y is None:\n",
    "        raise Exception(\"Failed to load dataset\")\n",
    "    \n",
    "    X_train, X_test, y_train, y_test = train_test_split(X, y, test_size=0.2, random_state=42)\n",
    "    \n",
    "    scaler = StandardScaler()\n",
    "    X_train_scaled = scaler.fit_transform(X_train)\n",
    "    X_test_scaled = scaler.transform(X_test)\n",
    "    \n",
    "    model = LogisticRegression(random_state=42, max_iter=1000)\n",
    "    model.fit(X_train_scaled, y_train)\n",
    "    \n",
    "    y_pred = model.predict(X_test_scaled)\n",
    "\n",
    "    accuracy = accuracy_score(y_test, y_pred)\n",
    "    \n",
    "    cm = confusion_matrix(y_test, y_pred)\n",
    "    \n",
    "    report = classification_report(y_test, y_pred, target_names=['Non-Spam', 'Spam'])\n",
    "    \n",
    "    plt.figure(figsize=(8, 6))\n",
    "    sns.heatmap(cm, annot=True, fmt='d', cmap='Blues',\n",
    "                xticklabels=['Non-Spam', 'Spam'],\n",
    "                yticklabels=['Non-Spam', 'Spam'])\n",
    "    plt.title('Confusion Matrix')\n",
    "    plt.ylabel('True Label')\n",
    "    plt.xlabel('Predicted Label')\n",
    "    \n",
    "    feature_importance = pd.DataFrame({\n",
    "        'Feature': X.columns,\n",
    "        'Importance': abs(model.coef_[0])\n",
    "    }).sort_values('Importance', ascending=False).head(10)\n",
    "    \n",
    "    return {\n",
    "        'model': model,\n",
    "        'accuracy': accuracy,\n",
    "        'confusion_matrix': cm,\n",
    "        'classification_report': report,\n",
    "        'feature_importance': feature_importance,\n",
    "        'scaler': scaler,\n",
    "        'features': X.columns\n",
    "    }\n",
    "\n",
    "results = train_spam_classifier()\n",
    "\n",
    "print(f\"Model Accuracy: {results['accuracy']:.2%}\")\n",
    "print(\"\\nClassification Report:\")\n",
    "print(results['classification_report'])\n",
    "print(\"\\nTop 10 Most Important Features:\")\n",
    "print(results['feature_importance'])"
   ]
  },
  {
   "cell_type": "code",
   "execution_count": 4,
   "id": "cd6c6f84",
   "metadata": {},
   "outputs": [
    {
     "name": "stdout",
     "output_type": "stream",
     "text": [
      "\n",
      "Example Prediction:\n",
      "Is Spam: False\n",
      "Spam Probability: 14.82%\n"
     ]
    }
   ],
   "source": [
    "def predict_spam(model, scaler, email_features, feature_names):\n",
    "    \"\"\"\n",
    "    Predict if an email is spam based on its features\n",
    "    \n",
    "    Parameters:\n",
    "    email_features: dict with values for all required features\n",
    "    \"\"\"\n",
    "    \n",
    "    features_df = pd.DataFrame([email_features], columns=feature_names)\n",
    "    \n",
    "    scaled_features = scaler.transform(features_df)\n",
    "    \n",
    "    prediction = model.predict(scaled_features)[0]\n",
    "    probability = model.predict_proba(scaled_features)[0]\n",
    "    \n",
    "    return {\n",
    "        'is_spam': bool(prediction),\n",
    "        'spam_probability': probability[1]\n",
    "    }\n",
    "\n",
    "example_email = dict(zip(results['features'], np.zeros(len(results['features']))))\n",
    "example_email['word_freq_0'] = 0.3  \n",
    "example_email['char_freq_0'] = 0.1  \n",
    "example_email['capital_run_length_average'] = 2.5\n",
    "\n",
    "prediction = predict_spam(\n",
    "    results['model'], \n",
    "    results['scaler'], \n",
    "    example_email,\n",
    "    results['features']\n",
    ")\n",
    "print(\"\\nExample Prediction:\")\n",
    "print(f\"Is Spam: {prediction['is_spam']}\")\n",
    "print(f\"Spam Probability: {prediction['spam_probability']:.2%}\")"
   ]
  },
  {
   "cell_type": "code",
   "execution_count": null,
   "id": "d5fcc9f4",
   "metadata": {},
   "outputs": [],
   "source": []
  }
 ],
 "metadata": {
  "kernelspec": {
   "display_name": "Python 3 (ipykernel)",
   "language": "python",
   "name": "python3"
  },
  "language_info": {
   "codemirror_mode": {
    "name": "ipython",
    "version": 3
   },
   "file_extension": ".py",
   "mimetype": "text/x-python",
   "name": "python",
   "nbconvert_exporter": "python",
   "pygments_lexer": "ipython3",
   "version": "3.10.9"
  }
 },
 "nbformat": 4,
 "nbformat_minor": 5
}
